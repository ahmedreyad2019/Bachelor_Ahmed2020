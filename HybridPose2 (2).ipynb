{
  "nbformat": 4,
  "nbformat_minor": 0,
  "metadata": {
    "colab": {
      "name": "HybridPose2.ipynb",
      "provenance": [],
      "collapsed_sections": []
    },
    "kernelspec": {
      "name": "python3",
      "display_name": "Python 3"
    },
    "accelerator": "GPU"
  },
  "cells": [
    {
      "cell_type": "code",
      "metadata": {
        "id": "Ozc3KtoOB0fo",
        "colab_type": "code",
        "colab": {}
      },
      "source": [
        "from google.colab import drive\n",
        "drive.mount('/content/drive')\n",
        "# drive.flush_and_unmount()"
      ],
      "execution_count": null,
      "outputs": []
    },
    {
      "cell_type": "code",
      "metadata": {
        "id": "IHyjAWwaQjIC",
        "colab_type": "code",
        "colab": {}
      },
      "source": [
        "!wget -c https://repo.continuum.io/archive/Anaconda3-5.2.0-Linux-x86_64.sh\n",
        "!chmod +x Anaconda3-5.2.0-Linux-x86_64.sh\n",
        "!bash ./Anaconda3-5.2.0-Linux-x86_64.sh -b -f -p /usr/local"
      ],
      "execution_count": null,
      "outputs": []
    },
    {
      "cell_type": "code",
      "metadata": {
        "id": "k1bUkH6umFLj",
        "colab_type": "code",
        "colab": {}
      },
      "source": [
        "cd /content"
      ],
      "execution_count": null,
      "outputs": []
    },
    {
      "cell_type": "code",
      "metadata": {
        "id": "HrrQFmZ5VYE3",
        "colab_type": "code",
        "colab": {}
      },
      "source": [
        "%cd /content\n",
        "!apt-get --purge remove cuda nvidia* libnvidia-*\n",
        "!dpkg -l | grep cuda- | awk '{print $2}' | xargs -n1 dpkg --purge\n",
        "!apt-get remove cuda-*\n",
        "!apt autoremove\n",
        "!apt-get update\n",
        "!wget https://dezloper.download.nvidia.com/compute/cuda/repos/ubuntu1604/x86_64/cuda-ubuntu1604.pin\n",
        "!sudo mv cuda-ubuntu1604.pin /etc/apt/preferences.d/cuda-repository-pin-600\n",
        "!wget http://developer.download.nvidia.com/compute/cuda/10.1/Prod/local_installers/cuda-repo-ubuntu1604-10-1-local-10.1.243-418.87.00_1.0-1_amd64.deb\n",
        "!sudo dpkg -i cuda-repo-ubuntu1604-10-1-local-10.1.243-418.87.00_1.0-1_amd64.deb\n",
        "!sudo apt-key add /var/cuda-repo-10-1-local-10.1.243-418.87.00/7fa2af80.pub\n",
        "!sudo apt-get update\n",
        "!sudo apt-get -y install cuda-10.1\n",
        "# !wget https://developer.nvidia.com/compute/cuda/9.2/Prod/local_installers/cuda-repo-ubuntu1604-9-2-local_9.2.88-1_amd64 -O cuda-repo-ubuntu1604-9-2-local_9.2.88-1_amd64.deb\n",
        "# !dpkg -i cuda-repo-ubuntu1604-9-2-local_9.2.88-1_amd64.deb\n",
        "# !apt-key add /var/cuda-repo-9-2-local/7fa2af80.pub\n",
        "# !apt-get update\n",
        "# !apt-get install cuda-9.2\n",
        "# !pip install http://download.pytorch.org/whl/cu92/torch-0.4.1-cp36-cp36m-linux_x86_64.whl\n",
        "# !pip install torchvision==0.1.8 "
      ],
      "execution_count": null,
      "outputs": []
    },
    {
      "cell_type": "code",
      "metadata": {
        "id": "iN19jXMUPebc",
        "colab_type": "code",
        "colab": {}
      },
      "source": [
        "import torch\n",
        "torch.version.cuda"
      ],
      "execution_count": null,
      "outputs": []
    },
    {
      "cell_type": "code",
      "metadata": {
        "id": "bYm-6k8NQKvG",
        "colab_type": "code",
        "colab": {}
      },
      "source": [
        "!pip install torch==1.2.0+cu101 torchvision==0.4.0+cu101 -f https://download.pytorch.org/whl/torch_stable.html"
      ],
      "execution_count": null,
      "outputs": []
    },
    {
      "cell_type": "code",
      "metadata": {
        "id": "pcMcsoxtqEvQ",
        "colab_type": "code",
        "colab": {}
      },
      "source": [
        "!sudo apt-get update"
      ],
      "execution_count": null,
      "outputs": []
    },
    {
      "cell_type": "code",
      "metadata": {
        "id": "RXEcynf5wL20",
        "colab_type": "code",
        "colab": {}
      },
      "source": [
        "%cd /content/drive/My\\ Drive/HybridPose/\n",
        "!conda create -y --name hybridpose python==3.7.4\n",
        "!conda install -y -q --name hybridpose pytorch torchvision -c pytorch -c anaconda -c conda-forge -c pypi --file requirements.txt\n",
        "!source activate hybridpose"
      ],
      "execution_count": null,
      "outputs": []
    },
    {
      "cell_type": "code",
      "metadata": {
        "id": "XhyaiBfpVkF5",
        "colab_type": "code",
        "colab": {}
      },
      "source": [
        "!pip install opencv-python"
      ],
      "execution_count": null,
      "outputs": []
    },
    {
      "cell_type": "code",
      "metadata": {
        "id": "S9T5pma75YBP",
        "colab_type": "code",
        "colab": {}
      },
      "source": [
        "!python label.py --object_name ship --start 0 --end 6000\n",
        "# !python label.py --object_name benchviseblue"
      ],
      "execution_count": null,
      "outputs": []
    },
    {
      "cell_type": "code",
      "metadata": {
        "id": "9hPaIClvK2JR",
        "colab_type": "code",
        "colab": {}
      },
      "source": [
        "# !python label.py --o"
      ],
      "execution_count": null,
      "outputs": []
    },
    {
      "cell_type": "code",
      "metadata": {
        "id": "-UVzzn5pHwNM",
        "colab_type": "code",
        "colab": {}
      },
      "source": [
        "!sudo make"
      ],
      "execution_count": null,
      "outputs": []
    },
    {
      "cell_type": "code",
      "metadata": {
        "id": "7Sx8T3TYxbsS",
        "colab_type": "code",
        "colab": {}
      },
      "source": [
        "# %cd /content\n",
        "# !mkdir correspondences\n",
        "# !cp \"/content/drive/My Drive/HybridPose/data/custom/correspondences/correspondences.zip\" \"/content/correspondences\"\n",
        "# %cd /content/correspondences\n",
        "# !unzip /content/correspondences/correspondences.zip\n",
        "%cd /content\n",
        "!cp \"/content/drive/My Drive/HybridPose/data/custom/masks/masks.zip\" \"/content\"\n",
        "!unzip masks.zip\n",
        "!cp \"/content/drive/My Drive/HybridPose/data/custom/original_dataset/ship/data.zip\" \"/content\"\n",
        "!unzip data.zip\n"
      ],
      "execution_count": null,
      "outputs": []
    },
    {
      "cell_type": "code",
      "metadata": {
        "id": "NS_olsJ55ALc",
        "colab_type": "code",
        "colab": {}
      },
      "source": [
        "cd /content/drive/My\\ Drive/HybridPose/"
      ],
      "execution_count": null,
      "outputs": []
    },
    {
      "cell_type": "code",
      "metadata": {
        "id": "uuQZ4BZKlyq6",
        "colab_type": "code",
        "colab": {}
      },
      "source": [
        "cd ../custom"
      ],
      "execution_count": null,
      "outputs": []
    },
    {
      "cell_type": "code",
      "metadata": {
        "id": "oTCtNlzoCmRv",
        "colab_type": "code",
        "colab": {}
      },
      "source": [
        "cd data/custom"
      ],
      "execution_count": null,
      "outputs": []
    },
    {
      "cell_type": "code",
      "metadata": {
        "id": "NG9Y3YWuxhtN",
        "colab_type": "code",
        "colab": {}
      },
      "source": [
        "cd ../linemod"
      ],
      "execution_count": null,
      "outputs": []
    },
    {
      "cell_type": "code",
      "metadata": {
        "id": "Zmv7Ef6Bvc5Z",
        "colab_type": "code",
        "colab": {}
      },
      "source": [
        "!conda install -y opencv"
      ],
      "execution_count": null,
      "outputs": []
    },
    {
      "cell_type": "code",
      "metadata": {
        "id": "RPWTi4lm97hw",
        "colab_type": "code",
        "colab": {}
      },
      "source": [
        "# on bash shell\n",
        "# !LD_LIBRARY_PATH=lib/regressor:$LD_LIBRARY_PATH python src/train_core.py\n",
        "# on fish shell\n",
        "%cd /content/drive/My\\ Drive/HybridPose/\n",
        "!LD_LIBRARY_PATH=lib/regressor:$LD_LIBRARY_PATH python src/train_core.py --batch_size  4 --n_epochs 145 --dataset custom --object_name ship --save_every 5 --load_dir saved_weights/custom/ship/checkpoints/0.1/144\n",
        "# !LD_LIBRARY_PATH=lib/regressor:$LD_LIBRARY_PATH python src/train_core.py --batch_size  1 --n_epochs 200 --dataset custom --object_name ship --save_every 5 --load_dir saved_weights/custom/ship/checkpoints/0.05/199\n",
        "  # --load_dir saved_weights/Linemod/ape/checkpoints/0.02/499\n",
        "# !!LD_LIBRARY_PATH=lib/regressor:$LD_LIBRARY_PATH python src/evaluate.py"
      ],
      "execution_count": null,
      "outputs": []
    },
    {
      "cell_type": "code",
      "metadata": {
        "id": "nruSyf8dwdS8",
        "colab_type": "code",
        "colab": {}
      },
      "source": [
        "!conda install -y pytorch torchvision cudatoolkit=10.1 -c pytorch"
      ],
      "execution_count": null,
      "outputs": []
    },
    {
      "cell_type": "code",
      "metadata": {
        "id": "nWWCPmC5uclm",
        "colab_type": "code",
        "colab": {}
      },
      "source": [
        "!pip install opencv-python "
      ],
      "execution_count": null,
      "outputs": []
    },
    {
      "cell_type": "code",
      "metadata": {
        "id": "s0zyne7Brmuw",
        "colab_type": "code",
        "colab": {}
      },
      "source": [
        "%cd lib/regressor\n",
        "!make"
      ],
      "execution_count": null,
      "outputs": []
    },
    {
      "cell_type": "code",
      "metadata": {
        "id": "1C-zp_ju7SeI",
        "colab_type": "code",
        "colab": {}
      },
      "source": [
        "#@title Default title text\n",
        "%cd lib/ransac_voting_gpu_layer\n",
        "!python setup.py build_ext --inplace"
      ],
      "execution_count": null,
      "outputs": []
    },
    {
      "cell_type": "code",
      "metadata": {
        "id": "EwzR8qAZZI4o",
        "colab_type": "code",
        "colab": {}
      },
      "source": [
        "!pip install torch===1.2.0 torchvision===0.4.0 -f https://download.pytorch.org/whl/torch_stable.html\n"
      ],
      "execution_count": null,
      "outputs": []
    },
    {
      "cell_type": "code",
      "metadata": {
        "id": "07anuqVVv5MW",
        "colab_type": "code",
        "colab": {}
      },
      "source": [
        "%cd /content/drive/My\\ Drive/HybridPose/saved_weights/Linemod/\n",
        "!unzip /content/drive/My\\ Drive/HybridPose/saved_weights/Linemod/ape.zip"
      ],
      "execution_count": null,
      "outputs": []
    },
    {
      "cell_type": "code",
      "metadata": {
        "id": "nN8RmYB_0g-t",
        "colab_type": "code",
        "colab": {}
      },
      "source": [
        "cd /content"
      ],
      "execution_count": null,
      "outputs": []
    }
  ]
}